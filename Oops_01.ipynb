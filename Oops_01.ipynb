{
 "cells": [
  {
   "cell_type": "code",
   "execution_count": 1,
   "id": "ef3a3017",
   "metadata": {},
   "outputs": [
    {
     "data": {
      "text/plain": [
       "9"
      ]
     },
     "execution_count": 1,
     "metadata": {},
     "output_type": "execute_result"
    }
   ],
   "source": [
    "# for create class\n",
    "# for create function under class and make object\n",
    "class clas1:\n",
    "    def Add(self,a,b):\n",
    "        res=a+b\n",
    "        return res\n",
    "obj=clas1()\n",
    "obj.Add(4,5)"
   ]
  },
  {
   "cell_type": "code",
   "execution_count": 7,
   "id": "ecb0cf09",
   "metadata": {},
   "outputs": [
    {
     "name": "stdout",
     "output_type": "stream",
     "text": [
      "Dheeraj\n",
      "Dheeraj\n",
      "Dheeraj\n"
     ]
    }
   ],
   "source": [
    "# make Custractor under class & make object\n",
    "class clas2:\n",
    "    def __init__(self):\n",
    "        print(\"Dheeraj\")\n",
    "obj=clas2()\n",
    "obj1=clas2()\n",
    "boj3= clas2()"
   ]
  },
  {
   "cell_type": "code",
   "execution_count": 8,
   "id": "c9ae52c5",
   "metadata": {},
   "outputs": [
    {
     "name": "stdout",
     "output_type": "stream",
     "text": [
      "Dheeraj\n"
     ]
    },
    {
     "ename": "NameError",
     "evalue": "name 'clas3' is not defined",
     "output_type": "error",
     "traceback": [
      "\u001b[1;31m---------------------------------------------------------------------------\u001b[0m",
      "\u001b[1;31mNameError\u001b[0m                                 Traceback (most recent call last)",
      "\u001b[1;32m<ipython-input-8-33ebcc6ae081>\u001b[0m in \u001b[0;36m<module>\u001b[1;34m\u001b[0m\n\u001b[0;32m      4\u001b[0m         \u001b[0mprint\u001b[0m\u001b[1;33m(\u001b[0m\u001b[1;34m\"Dheeraj\"\u001b[0m\u001b[1;33m)\u001b[0m\u001b[1;33m\u001b[0m\u001b[1;33m\u001b[0m\u001b[0m\n\u001b[0;32m      5\u001b[0m \u001b[0mobj\u001b[0m\u001b[1;33m=\u001b[0m\u001b[0mclas2\u001b[0m\u001b[1;33m(\u001b[0m\u001b[1;33m)\u001b[0m\u001b[1;33m\u001b[0m\u001b[1;33m\u001b[0m\u001b[0m\n\u001b[1;32m----> 6\u001b[1;33m \u001b[0mobj\u001b[0m\u001b[1;33m=\u001b[0m\u001b[0mclas3\u001b[0m\u001b[1;33m(\u001b[0m\u001b[1;33m)\u001b[0m\u001b[1;33m\u001b[0m\u001b[1;33m\u001b[0m\u001b[0m\n\u001b[0m\u001b[0;32m      7\u001b[0m \u001b[0mboj\u001b[0m\u001b[1;33m=\u001b[0m \u001b[0mclas4\u001b[0m\u001b[1;33m(\u001b[0m\u001b[1;33m)\u001b[0m\u001b[1;33m\u001b[0m\u001b[1;33m\u001b[0m\u001b[0m\n",
      "\u001b[1;31mNameError\u001b[0m: name 'clas3' is not defined"
     ]
    }
   ],
   "source": [
    "# make Custractor under class & make object\n",
    "class clas2:\n",
    "    def __init__(self):\n",
    "        print(\"Dheeraj\")\n",
    "obj=clas2()\n",
    "obj=clas3()\n",
    "boj= clas4()"
   ]
  },
  {
   "cell_type": "code",
   "execution_count": 10,
   "id": "113411a9",
   "metadata": {},
   "outputs": [
    {
     "name": "stdout",
     "output_type": "stream",
     "text": [
      "<__main__.clas3 object at 0x00000144DBBE7130>\n",
      "<__main__.clas3 object at 0x00000144DBBE7100>\n"
     ]
    }
   ],
   "source": [
    "# for address print with 2 other object with same class\n",
    "class clas3:\n",
    "    def __init__(self):\n",
    "        print(self)\n",
    "\n",
    "ob1=clas3()\n",
    "ob2=clas3()"
   ]
  },
  {
   "cell_type": "code",
   "execution_count": 16,
   "id": "fbcc4793",
   "metadata": {},
   "outputs": [
    {
     "name": "stdout",
     "output_type": "stream",
     "text": [
      "5 6\n"
     ]
    },
    {
     "ename": "NameError",
     "evalue": "name 'self' is not defined",
     "output_type": "error",
     "traceback": [
      "\u001b[1;31m---------------------------------------------------------------------------\u001b[0m",
      "\u001b[1;31mNameError\u001b[0m                                 Traceback (most recent call last)",
      "\u001b[1;32m<ipython-input-16-0082c79a363f>\u001b[0m in \u001b[0;36m<module>\u001b[1;34m\u001b[0m\n\u001b[0;32m      7\u001b[0m \u001b[0mobj\u001b[0m\u001b[1;33m=\u001b[0m\u001b[0mclas4\u001b[0m\u001b[1;33m(\u001b[0m\u001b[1;33m)\u001b[0m\u001b[1;33m\u001b[0m\u001b[1;33m\u001b[0m\u001b[0m\n\u001b[0;32m      8\u001b[0m \u001b[0mprint\u001b[0m\u001b[1;33m(\u001b[0m\u001b[0mobj\u001b[0m\u001b[1;33m.\u001b[0m\u001b[0ma\u001b[0m\u001b[1;33m,\u001b[0m\u001b[0mobj\u001b[0m\u001b[1;33m.\u001b[0m\u001b[0mb\u001b[0m\u001b[1;33m)\u001b[0m\u001b[1;33m\u001b[0m\u001b[1;33m\u001b[0m\u001b[0m\n\u001b[1;32m----> 9\u001b[1;33m \u001b[0mprint\u001b[0m\u001b[1;33m(\u001b[0m\u001b[0mself\u001b[0m\u001b[1;33m)\u001b[0m\u001b[1;33m\u001b[0m\u001b[1;33m\u001b[0m\u001b[0m\n\u001b[0m",
      "\u001b[1;31mNameError\u001b[0m: name 'self' is not defined"
     ]
    }
   ],
   "source": [
    " # make class & constructor with values\n",
    "class clas4:\n",
    "    def __init__(self):\n",
    "        self.a=5\n",
    "        self.b=6\n",
    "      \n",
    "obj=clas4()\n",
    "print(obj.a,obj.b)\n",
    "print(self)   # error\n"
   ]
  },
  {
   "cell_type": "code",
   "execution_count": 21,
   "id": "b665f262",
   "metadata": {},
   "outputs": [
    {
     "name": "stdout",
     "output_type": "stream",
     "text": [
      "1 ramesh 27 23456789\n"
     ]
    }
   ],
   "source": [
    "# class customer cms class \n",
    "class Customer:\n",
    "    def __init__(self):\n",
    "        self.id=1\n",
    "        self.name=\"ramesh\"\n",
    "        self.age=27\n",
    "        self.mob=23456789\n",
    "obj=Customer()       # CLass Call\n",
    "print(obj.id,obj.name, obj.age,obj.mob)"
   ]
  },
  {
   "cell_type": "code",
   "execution_count": 22,
   "id": "14ad4eb1",
   "metadata": {},
   "outputs": [
    {
     "ename": "AttributeError",
     "evalue": "'cust' object has no attribute 'id'",
     "output_type": "error",
     "traceback": [
      "\u001b[1;31m---------------------------------------------------------------------------\u001b[0m",
      "\u001b[1;31mAttributeError\u001b[0m                            Traceback (most recent call last)",
      "\u001b[1;32m<ipython-input-22-0b95845fb9dd>\u001b[0m in \u001b[0;36m<module>\u001b[1;34m\u001b[0m\n\u001b[0;32m      4\u001b[0m         \u001b[0mself\u001b[0m\u001b[1;33m.\u001b[0m\u001b[0mname\u001b[0m\u001b[1;33m=\u001b[0m\u001b[1;34m\"ramesh\"\u001b[0m\u001b[1;33m\u001b[0m\u001b[1;33m\u001b[0m\u001b[0m\n\u001b[0;32m      5\u001b[0m \u001b[0mobj\u001b[0m\u001b[1;33m=\u001b[0m \u001b[0mcust\u001b[0m\u001b[1;33m(\u001b[0m\u001b[1;33m)\u001b[0m\u001b[1;33m\u001b[0m\u001b[1;33m\u001b[0m\u001b[0m\n\u001b[1;32m----> 6\u001b[1;33m \u001b[0mprint\u001b[0m\u001b[1;33m(\u001b[0m\u001b[0mobj\u001b[0m\u001b[1;33m.\u001b[0m\u001b[0mid\u001b[0m\u001b[1;33m,\u001b[0m\u001b[0mobj\u001b[0m\u001b[1;33m.\u001b[0m\u001b[0mname\u001b[0m\u001b[1;33m)\u001b[0m\u001b[1;33m\u001b[0m\u001b[1;33m\u001b[0m\u001b[0m\n\u001b[0m",
      "\u001b[1;31mAttributeError\u001b[0m: 'cust' object has no attribute 'id'"
     ]
    }
   ],
   "source": [
    "# not suitable this type of method for class \n",
    "class cust:\n",
    "    def method(self):\n",
    "        self.id=1\n",
    "        self.name=\"ramesh\"\n",
    "obj= cust()\n",
    "print(obj.id,obj.name)    # error"
   ]
  },
  {
   "cell_type": "code",
   "execution_count": 28,
   "id": "7b99367b",
   "metadata": {},
   "outputs": [
    {
     "name": "stdout",
     "output_type": "stream",
     "text": [
      "1 rahul\n"
     ]
    }
   ],
   "source": [
    "# this type of method is suitable for class\n",
    "class Cust:\n",
    "    def Method1(self):\n",
    "        self.id=1\n",
    "        self.name=\"rahul\"\n",
    "obj=Cust()\n",
    "obj.Method1()\n",
    "print(obj.id,obj.name)\n"
   ]
  },
  {
   "cell_type": "code",
   "execution_count": 30,
   "id": "3f195c52",
   "metadata": {},
   "outputs": [
    {
     "name": "stdout",
     "output_type": "stream",
     "text": [
      "2 Rahul 35 234567\n",
      "0   0 0\n"
     ]
    }
   ],
   "source": [
    "# for small input  parts\n",
    "class Customer:\n",
    "    def __init__(self):\n",
    "        self.id=0\n",
    "        self.name=\" \"\n",
    "        self.age=0\n",
    "        self.mob=0\n",
    "obj= Customer()\n",
    "obj1=Customer()\n",
    "obj.id=2\n",
    "obj.name=\"Rahul\"\n",
    "obj.age=35\n",
    "obj.mob=234567\n",
    "print(obj.id,obj.name,obj.age,obj.mob)\n",
    "print(obj1.id,obj1.name,obj1.age,obj1.mob)"
   ]
  },
  {
   "cell_type": "code",
   "execution_count": 33,
   "id": "61c01acc",
   "metadata": {},
   "outputs": [
    {
     "name": "stdout",
     "output_type": "stream",
     "text": [
      "1 2\n",
      "0 0\n"
     ]
    }
   ],
   "source": [
    "# for constructor & method & class\n",
    "class clas:\n",
    "    def __init__(self):\n",
    "        self.a=0\n",
    "        self.b=0\n",
    "    def fun(self):\n",
    "        self.a=1\n",
    "        self.b=2\n",
    "        \n",
    "ob1= clas()   # class Call\n",
    "ob2= clas()   # class Call\n",
    "ob1.fun()     # method class\n",
    "print(ob1.a,ob1.b) \n",
    "print(ob2.a,ob2.b)"
   ]
  },
  {
   "cell_type": "code",
   "execution_count": 39,
   "id": "e310cecd",
   "metadata": {},
   "outputs": [
    {
     "name": "stdout",
     "output_type": "stream",
     "text": [
      "1 2 5 6\n",
      "1 5 5 6\n"
     ]
    }
   ],
   "source": [
    "class clas:                      # class \n",
    "    def __init__(self):          # constructor\n",
    "        self.a=1\n",
    "        self.b=2\n",
    "        self.c,self.d=5,6\n",
    "    def showData(self):           # method\n",
    "        print(self.a,self.b,self.c,self.d)\n",
    "obj=clas()                        # object   & class call\n",
    "print(obj.a,obj.b,obj.c,obj.d)\n",
    "obj.b=5\n",
    "obj.showData()                  # method call"
   ]
  },
  {
   "cell_type": "code",
   "execution_count": 41,
   "id": "4ee38432",
   "metadata": {},
   "outputs": [
    {
     "name": "stdout",
     "output_type": "stream",
     "text": [
      "[2, 3, 4]\n",
      "[32, 3, 4, 55]\n"
     ]
    }
   ],
   "source": [
    "def func2(self):\n",
    "    print(self)\n",
    "    self[0]=32\n",
    "    self.append(55)\n",
    "l1=[2,3,4]\n",
    "func2(l1)\n",
    "print(l1)"
   ]
  },
  {
   "cell_type": "code",
   "execution_count": 44,
   "id": "fea2f125",
   "metadata": {},
   "outputs": [
    {
     "name": "stdout",
     "output_type": "stream",
     "text": [
      "Enter your 1st number: 23\n",
      "Enter your 2nd Number: 23\n",
      "Result 46\n"
     ]
    }
   ],
   "source": [
    "# add class \n",
    "class custAdd:\n",
    "    def __init__(self):\n",
    "        self.a=0\n",
    "        self.b=0\n",
    "        self.s=0\n",
    "    def Add(self):\n",
    "        self.s=self.a + self.b\n",
    "        \n",
    "obj= custAdd()\n",
    "obj.a= int(input(\"Enter your 1st number: \"))\n",
    "obj.b= int(input(\"Enter your 2nd Number: \"))\n",
    "obj.Add()\n",
    "print(\"Result\", obj.s)"
   ]
  },
  {
   "cell_type": "code",
   "execution_count": 47,
   "id": "843a4ff1",
   "metadata": {},
   "outputs": [
    {
     "name": "stdout",
     "output_type": "stream",
     "text": [
      "Enter your 1st number23\n",
      "Enter your 1st number23\n",
      "Enter Opretors +,-,*,/,//,**,%: -\n",
      "Result:  0.0\n"
     ]
    }
   ],
   "source": [
    " # make simple clasi with class constructor & method\n",
    "# BLL\n",
    "class calci:\n",
    "    def __init__(self):\n",
    "        self.a = 0\n",
    "        self.b = 0\n",
    "        self.s = 0\n",
    "    def Add(self):\n",
    "        self.s = self.a + self.b\n",
    "    def Sub(self):\n",
    "        self.s = self.a - self.b\n",
    "    def Mul(self):\n",
    "        self.s = self.a * self.b\n",
    "    def Div(self):\n",
    "        self.s = self.a / self.b\n",
    "    def floorDiv(self):\n",
    "        self.s = self.a // self.b\n",
    "    def Pow(self):\n",
    "        self.s = self.a ** self.b\n",
    "    def Modl(self):\n",
    "        self.s = self.a % self.b\n",
    "    \n",
    "# Pl        \n",
    "obj = calci()\n",
    "obj.a = float(input(\"Enter your 1st number\"))\n",
    "obj.b = float(input(\"Enter your 1st number\"))\n",
    "choice = input(\"Enter Opretors +,-,*,/,//,**,%: \")\n",
    "if (choice == \"+\"):\n",
    "    obj.Add()\n",
    "elif (choice == \"-\"):\n",
    "    obj.Sub()\n",
    "elif (choice == \"*\"):\n",
    "    obj.Mul()\n",
    "elif (choice == \"/\"):\n",
    "    obj.Div()\n",
    "elif (choice == \"//\"):\n",
    "    obj.floorDiv()\n",
    "elif (choice == \"**\"):\n",
    "    obj.Pow()\n",
    "elif (choice == \"%\"):\n",
    "    obj.Modl()\n",
    "print(\"Result: \", obj.s)"
   ]
  },
  {
   "cell_type": "code",
   "execution_count": null,
   "id": "f846ca1f",
   "metadata": {},
   "outputs": [],
   "source": []
  }
 ],
 "metadata": {
  "kernelspec": {
   "display_name": "Python 3",
   "language": "python",
   "name": "python3"
  },
  "language_info": {
   "codemirror_mode": {
    "name": "ipython",
    "version": 3
   },
   "file_extension": ".py",
   "mimetype": "text/x-python",
   "name": "python",
   "nbconvert_exporter": "python",
   "pygments_lexer": "ipython3",
   "version": "3.8.8"
  }
 },
 "nbformat": 4,
 "nbformat_minor": 5
}
