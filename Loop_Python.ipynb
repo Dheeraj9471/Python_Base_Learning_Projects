{
 "cells": [
  {
   "cell_type": "code",
   "execution_count": null,
   "id": "1fec18d0",
   "metadata": {},
   "outputs": [],
   "source": [
    "# Print table of 2.\n",
    "for i in range(10):\n",
    "    res=i*2\n",
    "    print(res)"
   ]
  },
  {
   "cell_type": "code",
   "execution_count": null,
   "id": "e27c2052",
   "metadata": {},
   "outputs": [],
   "source": [
    "# Print table of 2.\n",
    "for i in range(11):\n",
    "    res=i*2\n",
    "    print(res)"
   ]
  },
  {
   "cell_type": "code",
   "execution_count": null,
   "id": "0ce37bd0",
   "metadata": {},
   "outputs": [],
   "source": [
    "# Print table of 2.\n",
    "for i in range(10):\n",
    "    res=i*2+2\n",
    "    print(res)"
   ]
  },
  {
   "cell_type": "code",
   "execution_count": null,
   "id": "b5304497",
   "metadata": {},
   "outputs": [],
   "source": [
    "# Print table of 2.\n",
    "for i in range(1,11):\n",
    "    res=i*2\n",
    "    print(res)"
   ]
  },
  {
   "cell_type": "code",
   "execution_count": null,
   "id": "c8676ec7",
   "metadata": {},
   "outputs": [],
   "source": [
    "# Print table of 2.\n",
    "for i in range(2,21,2):\n",
    "    print(i)"
   ]
  },
  {
   "cell_type": "code",
   "execution_count": null,
   "id": "1d07397e",
   "metadata": {},
   "outputs": [],
   "source": [
    "# print suqare of these elements of a list.\n",
    "list=[2,3,4,5,6,7,8,9]\n",
    "for i in list:\n",
    "    res=i*i\n",
    "    print(res)"
   ]
  },
  {
   "cell_type": "code",
   "execution_count": null,
   "id": "0c9c1500",
   "metadata": {},
   "outputs": [],
   "source": [
    "# print suqare of these elements of a list.\n",
    "list=[2,3,4,5,6,7,8,9]\n",
    "for i in range(len(list)):\n",
    "    res=list[i] * list[i]\n",
    "    print(res)"
   ]
  },
  {
   "cell_type": "code",
   "execution_count": null,
   "id": "4024d616",
   "metadata": {},
   "outputs": [],
   "source": [
    "# sum of table of 2.\n",
    "res=0\n",
    "for i  in range(1,11):\n",
    "    coun=i*2\n",
    "    res=res+coun\n",
    "print(res)"
   ]
  },
  {
   "cell_type": "code",
   "execution_count": null,
   "id": "afc34a28",
   "metadata": {},
   "outputs": [],
   "source": [
    "# print sum of these elements of a list.\n",
    "list=[2,3,4,5,6,7,8,9]\n",
    "res=sum(list)\n",
    "print(res)"
   ]
  },
  {
   "cell_type": "code",
   "execution_count": null,
   "id": "9d5a01a9",
   "metadata": {},
   "outputs": [],
   "source": [
    "# print sum of these elements of a list.\n",
    "res=0\n",
    "list=[2,3,4,5,6,7,8,9]\n",
    "for i in list:\n",
    "    res=res+i\n",
    "print(res)"
   ]
  },
  {
   "cell_type": "code",
   "execution_count": null,
   "id": "f7cbc137",
   "metadata": {},
   "outputs": [],
   "source": [
    "# print sum of these elements of a list.\n",
    "res=0\n",
    "list=[2,3,4,5,6,7,8,9]\n",
    "for i in list:\n",
    "    co=i**2\n",
    "    res=res+co\n",
    "print(res)"
   ]
  },
  {
   "cell_type": "code",
   "execution_count": null,
   "id": "9a62be3b",
   "metadata": {},
   "outputs": [],
   "source": [
    "# print sum of these elements of a list.\n",
    "res=0\n",
    "list=[2,3,4,5,6,7,8,9]\n",
    "for i in list:\n",
    "    co=i**i\n",
    "    res=res+co\n",
    "print(res)"
   ]
  },
  {
   "cell_type": "code",
   "execution_count": null,
   "id": "f81f79d5",
   "metadata": {},
   "outputs": [],
   "source": [
    "list=[2,3,4,5,6,7,8,9]\n",
    "for i in range(len(list),0,-1):\n",
    "    print(list[i-1])"
   ]
  },
  {
   "cell_type": "code",
   "execution_count": null,
   "id": "b31c1dde",
   "metadata": {},
   "outputs": [],
   "source": [
    "list=[2,3,4,5,6,7,8,9]\n",
    "print(list[::-1])"
   ]
  },
  {
   "cell_type": "code",
   "execution_count": null,
   "id": "5fe9cac8",
   "metadata": {},
   "outputs": [],
   "source": [
    "list=[2,3,4,5,6,7,8,9]\n",
    "for i in range(-1,-len(list)-1,-1):\n",
    "    print(list[i])"
   ]
  },
  {
   "cell_type": "markdown",
   "id": "a38793dd",
   "metadata": {},
   "source": [
    "# Nested Loops"
   ]
  },
  {
   "cell_type": "code",
   "execution_count": null,
   "id": "3aa6aa7d",
   "metadata": {},
   "outputs": [],
   "source": [
    "\n",
    "# Nested Loops\n",
    "list=[[2,3,4,5],[6,7,8,9]]\n",
    "for i in list:\n",
    "    for j in i:\n",
    "        print(j)"
   ]
  },
  {
   "cell_type": "code",
   "execution_count": null,
   "id": "e3020c78",
   "metadata": {},
   "outputs": [],
   "source": [
    "list2=[[2,3,4,5],[6,7,8,9]]\n",
    "list1=[]\n",
    "for i in list2:\n",
    "    for j in i:\n",
    "        list1.append(j)\n",
    "for k in range(len(list1),0,-1):\n",
    "    print(list1[k-1])"
   ]
  },
  {
   "cell_type": "code",
   "execution_count": null,
   "id": "75c118c9",
   "metadata": {},
   "outputs": [],
   "source": [
    "a,b,c= [2,3,4]\n",
    "print(a,b,c)"
   ]
  },
  {
   "cell_type": "code",
   "execution_count": null,
   "id": "13b9af48",
   "metadata": {},
   "outputs": [],
   "source": [
    "a,b=2,3,4\n",
    "print(a,b)  # error"
   ]
  },
  {
   "cell_type": "code",
   "execution_count": null,
   "id": "084252ba",
   "metadata": {},
   "outputs": [],
   "source": [
    "lis1=[[2,3,4],[5,6,7]]\n",
    "for a,b,c in lis1:\n",
    "    print(a,b,c)"
   ]
  },
  {
   "cell_type": "code",
   "execution_count": null,
   "id": "7bd6379d",
   "metadata": {},
   "outputs": [],
   "source": [
    "# many time\n",
    "n= int(input(\"Enter the 1st order: \"))\n",
    "n1= int(input(\"Enter the square order: \"))\n",
    "for i in range(n):\n",
    "    for j in range(n1):\n",
    "        print(\"Dheeraj\")"
   ]
  },
  {
   "cell_type": "code",
   "execution_count": null,
   "id": "8eaef26f",
   "metadata": {},
   "outputs": [],
   "source": [
    "# many time\n",
    "n= int(input(\"Enter the 1st order: \"))\n",
    "n1= int(input(\"Enter the square order: \"))\n",
    "for i in range(n):\n",
    "    for j in range(n1):\n",
    "        print(\"Dheeraj\")\n",
    "        print(\"Kumar\")\n",
    "    print(\"partially complete\")\n",
    "print(\"completed\")"
   ]
  },
  {
   "cell_type": "code",
   "execution_count": null,
   "id": "8e1c81a4",
   "metadata": {},
   "outputs": [],
   "source": [
    "# many time \n",
    "m,n=2,3\n",
    "for i in range(m):\n",
    "    for j in range(n):\n",
    "        print(\"Dheeraj\")"
   ]
  },
  {
   "cell_type": "markdown",
   "id": "4a749cec",
   "metadata": {},
   "source": [
    "# pattern printing"
   ]
  },
  {
   "cell_type": "code",
   "execution_count": null,
   "id": "251309be",
   "metadata": {},
   "outputs": [],
   "source": [
    "n = int(input(\"Enter Your choice: \"))\n",
    "for i in range(n):\n",
    "    for j in range(i+1):\n",
    "        print(\"*\",end=\" \")        # i=n     j=i+1\n",
    "    print()"
   ]
  },
  {
   "cell_type": "code",
   "execution_count": null,
   "id": "eab0bc90",
   "metadata": {},
   "outputs": [],
   "source": [
    "n= int(input(\" Enter your choice: \"))\n",
    "for i in range(n):\n",
    "    for j in range(n-i):\n",
    "        print(\"*\",end=\" \")               # i=n     j=n-i\n",
    "    print()\n",
    "    "
   ]
  },
  {
   "cell_type": "code",
   "execution_count": null,
   "id": "58507e39",
   "metadata": {},
   "outputs": [],
   "source": [
    "n= int(input(\"Enter any Numbers: \"))\n",
    "for i in range(n):\n",
    "    for j in range(n-i-1):\n",
    "        print(\" \", end=\" \")\n",
    "    for k in range(i+1):\n",
    "        print(\" *\",end=\" \")\n",
    "    print(\"\")        \n",
    "    "
   ]
  },
  {
   "cell_type": "code",
   "execution_count": null,
   "id": "456b360a",
   "metadata": {},
   "outputs": [],
   "source": [
    "n= int(input(\"Enter any Numbers: \"))\n",
    "for i in range(n):                # i = n\n",
    "    for j in range(n-i-1):        # i=n-i-1   \n",
    "        print(\" \", end=\" \")\n",
    "    for k in range(i+1):           # k= i+1\n",
    "        print(\"*\",end=\" \")\n",
    "    print(\"\") "
   ]
  },
  {
   "cell_type": "code",
   "execution_count": null,
   "id": "793e6f12",
   "metadata": {},
   "outputs": [],
   "source": [
    "n= int(input(\"Enter numbers of lines: \"))\n",
    "for i in range(n):\n",
    "    for j in range(i+1):    # j= i+1\n",
    "        print(\"*\",end=\" \")\n",
    "    for k in range(2*n-2*i-2):   # k= 2*n-2*i-2\n",
    "        print(\" \",end=\" \")\n",
    "    for l in range(i*1):\n",
    "        print(\"*\",end=\" \")       # l= i*1\n",
    "    print()"
   ]
  },
  {
   "cell_type": "code",
   "execution_count": null,
   "id": "fc2499c9",
   "metadata": {},
   "outputs": [],
   "source": [
    "n = int(input(\"Enter your choice: \"))\n",
    "for i in range(n):\n",
    "    for j in range(1,i+1):\n",
    "        print(i,end=\" \")\n",
    "    print()"
   ]
  },
  {
   "cell_type": "code",
   "execution_count": null,
   "id": "9e86ae77",
   "metadata": {},
   "outputs": [],
   "source": [
    "n = int(input(\"Enter your choice: \"))\n",
    "for i in range(1, n):\n",
    "    for j in range(1,i+1):\n",
    "        print(j,end=\" \")\n",
    "    print()"
   ]
  },
  {
   "cell_type": "markdown",
   "id": "fd5adae0",
   "metadata": {},
   "source": [
    "# Break & Continue"
   ]
  },
  {
   "cell_type": "code",
   "execution_count": null,
   "id": "0872254f",
   "metadata": {},
   "outputs": [],
   "source": [
    "# new program of 1squre,2squre.,3squre,4squre\n",
    "for i in range(1,10):\n",
    "    if(i==5):\n",
    "        break\n",
    "    print(i**2)"
   ]
  },
  {
   "cell_type": "code",
   "execution_count": null,
   "id": "8f791f32",
   "metadata": {},
   "outputs": [],
   "source": [
    "# new program of 1squre,2squre.,3squre,4squre\n",
    "for i in range(1,10):\n",
    "    print(i**2)\n",
    "    if(i==4):\n",
    "        break"
   ]
  },
  {
   "cell_type": "code",
   "execution_count": null,
   "id": "5670e65b",
   "metadata": {},
   "outputs": [],
   "source": [
    "# new program of 1squre,2squre.,3squre,4squre,5squre,6squre.,8squre,9squre,11squre,12squre.,13squre,14squre\n",
    "for i in range(1,22):\n",
    "    if (i==7 or i==10):\n",
    "        continue\n",
    "    print(i**2)\n",
    "    if (i==18):\n",
    "        break\n",
    "    "
   ]
  },
  {
   "cell_type": "code",
   "execution_count": null,
   "id": "ec743d05",
   "metadata": {},
   "outputs": [],
   "source": [
    "# prime no. only divisible by 1 and it self;\n",
    "n = int(input(\"Enter any number: \"))\n",
    "r=0\n",
    "for i in range(2,n):\n",
    "    if (n % i == 0):\n",
    "        print(n, \"is not a prime number\")\n",
    "        r=1\n",
    "        break\n",
    "if (r==0):\n",
    "    print(n,\"is prime number\")"
   ]
  },
  {
   "cell_type": "code",
   "execution_count": null,
   "id": "ea20f8f4",
   "metadata": {},
   "outputs": [],
   "source": [
    "n = int(input(\"Enter the your Number: \"))\n",
    "for i in range(2,n):\n",
    "    if (n % 2 == 0):\n",
    "        print(n,\"The number  is not prime number\")\n",
    "        break\n",
    "    else:\n",
    "        print(n, \" is prime Number\")\n",
    "        break"
   ]
  },
  {
   "cell_type": "code",
   "execution_count": null,
   "id": "b5e65224",
   "metadata": {},
   "outputs": [],
   "source": [
    "# Find all prime and non prime number in a given range:\n",
    "n1 = int(input(\"Enter Your lower Number\"))\n",
    "n2 =  int(input(\"Enter your upper Number\"))\n",
    "for n in range(n1,n2+1):\n",
    "    for i in range(2,n):\n",
    "        if (n%i==0):\n",
    "            print(n, \" is not prime nummber\")\n",
    "            break\n",
    "        else:\n",
    "            print(n,\" is prime number\")\n",
    "            break\n",
    "        "
   ]
  },
  {
   "cell_type": "code",
   "execution_count": 2,
   "id": "02fbfa63",
   "metadata": {},
   "outputs": [
    {
     "name": "stdout",
     "output_type": "stream",
     "text": [
      "Enter your choice: 121\n",
      "121  is palindrome\n"
     ]
    }
   ],
   "source": [
    "# findm thepalindrome numbers:\n",
    "n= input(\"Enter your choice: \")\n",
    "i=0\n",
    "for i in range(len(n)):\n",
    "    if n[i]!=n[-1-i]:\n",
    "        print(n,\" is not palindrome\")\n",
    "        break\n",
    "    else:\n",
    "        print(n,\" is palindrome\")\n",
    "        break\n",
    "        \n",
    "        "
   ]
  },
  {
   "cell_type": "markdown",
   "id": "335e9900",
   "metadata": {},
   "source": [
    "# Palindrome program in python using string"
   ]
  },
  {
   "cell_type": "code",
   "execution_count": null,
   "id": "a6bbb8e2",
   "metadata": {},
   "outputs": [],
   "source": [
    "n=input(\"Enter your word: \")\n",
    "rev=reversed(n)\n",
    "if list(n)==list(rev):\n",
    "    print(n, \" is palindrome number\")\n",
    "else:\n",
    "     print(n, \" is not palindrome number\")"
   ]
  },
  {
   "cell_type": "markdown",
   "id": "05736a9d",
   "metadata": {},
   "source": [
    "# while loop"
   ]
  },
  {
   "cell_type": "code",
   "execution_count": null,
   "id": "fee86552",
   "metadata": {},
   "outputs": [],
   "source": [
    "for i in range(5):\n",
    "    print(\"Dheeraj\")"
   ]
  },
  {
   "cell_type": "code",
   "execution_count": null,
   "id": "348a9f04",
   "metadata": {},
   "outputs": [],
   "source": [
    "i=0\n",
    "while(i<5):\n",
    "    print(\"Dheeraj\")\n",
    "    i+=1"
   ]
  },
  {
   "cell_type": "code",
   "execution_count": null,
   "id": "104986a1",
   "metadata": {},
   "outputs": [],
   "source": [
    " # Find all prime and non prime number in a given range using while loop:\n",
    "n1= int(input(\"Enter lower Number: \"))\n",
    "n2= int(input(\"Enter upper number: \"))\n",
    "n=n1\n",
    "while (n< n2+1):\n",
    "    # for n in range(n1,n2+1):\n",
    "    i=2\n",
    "    while (i<n):\n",
    "        #for i in range(2,n):\n",
    "        if (n%i==0):\n",
    "            print(n, \" is not prime nummber\")\n",
    "            break\n",
    "        i+=1\n",
    "        else:\n",
    "            print(n,\" is prime number\")\n",
    "        i+=1\n",
    "            \n",
    "    "
   ]
  },
  {
   "cell_type": "code",
   "execution_count": null,
   "id": "d9750816",
   "metadata": {},
   "outputs": [],
   "source": []
  },
  {
   "cell_type": "code",
   "execution_count": null,
   "id": "3ec38877",
   "metadata": {},
   "outputs": [],
   "source": []
  }
 ],
 "metadata": {
  "kernelspec": {
   "display_name": "Python 3",
   "language": "python",
   "name": "python3"
  },
  "language_info": {
   "codemirror_mode": {
    "name": "ipython",
    "version": 3
   },
   "file_extension": ".py",
   "mimetype": "text/x-python",
   "name": "python",
   "nbconvert_exporter": "python",
   "pygments_lexer": "ipython3",
   "version": "3.8.8"
  }
 },
 "nbformat": 4,
 "nbformat_minor": 5
}
